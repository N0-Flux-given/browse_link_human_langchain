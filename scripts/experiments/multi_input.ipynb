{
 "cells": [
  {
   "cell_type": "code",
   "execution_count": 4,
   "id": "cc71a76e",
   "metadata": {},
   "outputs": [],
   "source": [
    "from typing import TypedDict, List\n",
    "from langgraph.graph import StateGraph"
   ]
  },
  {
   "cell_type": "code",
   "execution_count": 17,
   "id": "c9cdb48e",
   "metadata": {},
   "outputs": [],
   "source": [
    "class AgentState(TypedDict):\n",
    "    values: List[int]\n",
    "    name: str\n",
    "    operation: str\n",
    "    result: str"
   ]
  },
  {
   "cell_type": "code",
   "execution_count": 18,
   "id": "b8cfbb6a",
   "metadata": {},
   "outputs": [],
   "source": [
    "def process_values(state: AgentState) -> AgentState:\n",
    "    \"\"\"This function handles multiple different inputs.\"\"\"\n",
    "    if state[\"operation\"] == \"+\":\n",
    "        state[\"result\"] = (\n",
    "            f\"Hi there, {state['name']}, your sum is {sum(state['values'])}\"\n",
    "        )\n",
    "    elif state[\"operation\"] == \"*\":\n",
    "        prod = 1\n",
    "        for num in state[\"values\"]:\n",
    "            prod *= num\n",
    "        state[\"result\"] = f\"Hi there, {state['name']}, your product is {prod}\"\n",
    "    else:\n",
    "        state[\"result\"] = (\n",
    "            f\"Hi there, {state['name']}, please provide an operator that is one of '+', '*'\"\n",
    "        )\n",
    "\n",
    "    return state"
   ]
  },
  {
   "cell_type": "code",
   "execution_count": 19,
   "id": "122eedc0",
   "metadata": {},
   "outputs": [],
   "source": [
    "graph = StateGraph(AgentState)\n",
    "graph.add_node(\"processor\", process_values)\n",
    "graph.set_entry_point(\"processor\")\n",
    "graph.set_finish_point(\"processor\")\n",
    "\n",
    "app = graph.compile()"
   ]
  },
  {
   "cell_type": "code",
   "execution_count": null,
   "id": "6ecf67b0",
   "metadata": {},
   "outputs": [
    {
     "data": {
      "text/plain": [
       "{'values': [1, 2, 3, 4, 5],\n",
       " 'name': 'Stevet',\n",
       " 'operation': '',\n",
       " 'result': \"Hi there, Stevet, please provide an operator that is one of '+', '*'\"}"
      ]
     },
     "execution_count": 23,
     "metadata": {},
     "output_type": "execute_result"
    },
    {
     "ename": "",
     "evalue": "",
     "output_type": "error",
     "traceback": [
      "\u001b[1;31mThe Kernel crashed while executing code in the current cell or a previous cell. \n",
      "\u001b[1;31mPlease review the code in the cell(s) to identify a possible cause of the failure. \n",
      "\u001b[1;31mClick <a href='https://aka.ms/vscodeJupyterKernelCrash'>here</a> for more info. \n",
      "\u001b[1;31mView Jupyter <a href='command:jupyter.viewOutput'>log</a> for further details."
     ]
    }
   ],
   "source": [
    "answers = app.invoke({\"values\": [1, 2, 3, 4, 5], \"name\": \"Stevet\", \"operation\": \"\"})\n",
    "answers"
   ]
  },
  {
   "cell_type": "code",
   "execution_count": null,
   "id": "5d03b78b",
   "metadata": {},
   "outputs": [],
   "source": []
  }
 ],
 "metadata": {
  "kernelspec": {
   "display_name": "chain",
   "language": "python",
   "name": "python3"
  },
  "language_info": {
   "codemirror_mode": {
    "name": "ipython",
    "version": 3
   },
   "file_extension": ".py",
   "mimetype": "text/x-python",
   "name": "python",
   "nbconvert_exporter": "python",
   "pygments_lexer": "ipython3",
   "version": "3.12.6"
  }
 },
 "nbformat": 4,
 "nbformat_minor": 5
}
